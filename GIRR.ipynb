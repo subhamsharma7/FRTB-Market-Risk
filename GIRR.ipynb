{
 "cells": [
  {
   "cell_type": "code",
   "execution_count": 1,
   "id": "026a4048",
   "metadata": {},
   "outputs": [],
   "source": [
    "import numpy as np\n",
    "import pandas as pd\n",
    "\n",
    "import warnings as wn\n",
    "wn.filterwarnings('ignore')"
   ]
  },
  {
   "cell_type": "code",
   "execution_count": 2,
   "id": "413eb2c7",
   "metadata": {},
   "outputs": [
    {
     "data": {
      "text/plain": [
       "0.9792184746334485"
      ]
     },
     "execution_count": 2,
     "metadata": {},
     "output_type": "execute_result"
    }
   ],
   "source": [
    "# this function gives intrabucket correlation value, for now this function is not dynamic\n",
    "def intrabucket_correl(column, index,curve = 'Same'):\n",
    "    \n",
    "    if  column == index and curve == 'Same':\n",
    "        correlation = 1\n",
    "        return correlation\n",
    "    \n",
    "    elif column == index and curve == 'Different':\n",
    "        return 0.999\n",
    "    \n",
    "    elif column != index and curve == 'Same':\n",
    "        num = abs(column- index)\n",
    "        denom = min(column, index)\n",
    "        exponent_term = np.exp(-0.03*(num/denom))\n",
    "        rho = max(0.40,exponent_term)\n",
    "        return rho\n",
    "    \n",
    "    else:\n",
    "        num = abs(column- index)\n",
    "        denom = min(column, index)\n",
    "        exponent_term = np.exp(-0.03*(num/denom))\n",
    "        rho = max(0.40,exponent_term)\n",
    "        return rho*0.999\n",
    "                \n",
    "correl = intrabucket_correl(5,3,'Different')\n",
    "correl"
   ]
  },
  {
   "cell_type": "code",
   "execution_count": 3,
   "id": "a4585640",
   "metadata": {},
   "outputs": [],
   "source": [
    "# weighted net sensitivities is filled in a matrix , net sensitivities * risk weight gives this matrix values\n",
    "WSk_euro = np.array([[0.00], [-2.57], [-3.856], [0.00], [4.84], [0.00]])\n",
    "Sb_euro = WSk_euro.sum() # this is used in interbucket aggregation\n",
    "Sb_euro_matrix = np.full((3,3),Sb_euro)  # this is used in intrabucket aggregation\n",
    "\n",
    "WSk_usd = np.array([[-1.927],\n",
    "                  [-1.767],\n",
    "                  [0.00]])\n",
    "\n",
    "Sb_usd = WSk_usd.sum()  # this is used in interbucket aggregation\n",
    "Sb_usd_matrix = np.full((3,3),Sb_usd) # this is used in intrabucket aggregation\n"
   ]
  },
  {
   "cell_type": "code",
   "execution_count": 4,
   "id": "f9565e7e",
   "metadata": {},
   "outputs": [
    {
     "data": {
      "text/html": [
       "<style type=\"text/css\">\n",
       "</style>\n",
       "<table id=\"T_45dfb\">\n",
       "  <caption>Intra-bucket correlation scenario for Euro</caption>\n",
       "  <thead>\n",
       "    <tr>\n",
       "      <th class=\"blank level0\" >&nbsp;</th>\n",
       "      <th id=\"T_45dfb_level0_col0\" class=\"col_heading level0 col0\" >3</th>\n",
       "      <th id=\"T_45dfb_level0_col1\" class=\"col_heading level0 col1\" >5</th>\n",
       "      <th id=\"T_45dfb_level0_col2\" class=\"col_heading level0 col2\" >10</th>\n",
       "      <th id=\"T_45dfb_level0_col3\" class=\"col_heading level0 col3\" >3</th>\n",
       "      <th id=\"T_45dfb_level0_col4\" class=\"col_heading level0 col4\" >5</th>\n",
       "      <th id=\"T_45dfb_level0_col5\" class=\"col_heading level0 col5\" >10</th>\n",
       "    </tr>\n",
       "  </thead>\n",
       "  <tbody>\n",
       "    <tr>\n",
       "      <th id=\"T_45dfb_level0_row0\" class=\"row_heading level0 row0\" >3</th>\n",
       "      <td id=\"T_45dfb_row0_col0\" class=\"data row0 col0\" >1.000000</td>\n",
       "      <td id=\"T_45dfb_row0_col1\" class=\"data row0 col1\" >0.980199</td>\n",
       "      <td id=\"T_45dfb_row0_col2\" class=\"data row0 col2\" >0.932394</td>\n",
       "      <td id=\"T_45dfb_row0_col3\" class=\"data row0 col3\" >0.999000</td>\n",
       "      <td id=\"T_45dfb_row0_col4\" class=\"data row0 col4\" >0.979218</td>\n",
       "      <td id=\"T_45dfb_row0_col5\" class=\"data row0 col5\" >0.931461</td>\n",
       "    </tr>\n",
       "    <tr>\n",
       "      <th id=\"T_45dfb_level0_row1\" class=\"row_heading level0 row1\" >5</th>\n",
       "      <td id=\"T_45dfb_row1_col0\" class=\"data row1 col0\" >0.980199</td>\n",
       "      <td id=\"T_45dfb_row1_col1\" class=\"data row1 col1\" >1.000000</td>\n",
       "      <td id=\"T_45dfb_row1_col2\" class=\"data row1 col2\" >0.970446</td>\n",
       "      <td id=\"T_45dfb_row1_col3\" class=\"data row1 col3\" >0.979218</td>\n",
       "      <td id=\"T_45dfb_row1_col4\" class=\"data row1 col4\" >0.999000</td>\n",
       "      <td id=\"T_45dfb_row1_col5\" class=\"data row1 col5\" >0.969475</td>\n",
       "    </tr>\n",
       "    <tr>\n",
       "      <th id=\"T_45dfb_level0_row2\" class=\"row_heading level0 row2\" >10</th>\n",
       "      <td id=\"T_45dfb_row2_col0\" class=\"data row2 col0\" >0.932394</td>\n",
       "      <td id=\"T_45dfb_row2_col1\" class=\"data row2 col1\" >0.970446</td>\n",
       "      <td id=\"T_45dfb_row2_col2\" class=\"data row2 col2\" >1.000000</td>\n",
       "      <td id=\"T_45dfb_row2_col3\" class=\"data row2 col3\" >0.931461</td>\n",
       "      <td id=\"T_45dfb_row2_col4\" class=\"data row2 col4\" >0.969475</td>\n",
       "      <td id=\"T_45dfb_row2_col5\" class=\"data row2 col5\" >0.999000</td>\n",
       "    </tr>\n",
       "    <tr>\n",
       "      <th id=\"T_45dfb_level0_row3\" class=\"row_heading level0 row3\" >3</th>\n",
       "      <td id=\"T_45dfb_row3_col0\" class=\"data row3 col0\" >0.999000</td>\n",
       "      <td id=\"T_45dfb_row3_col1\" class=\"data row3 col1\" >0.979218</td>\n",
       "      <td id=\"T_45dfb_row3_col2\" class=\"data row3 col2\" >0.931461</td>\n",
       "      <td id=\"T_45dfb_row3_col3\" class=\"data row3 col3\" >1.000000</td>\n",
       "      <td id=\"T_45dfb_row3_col4\" class=\"data row3 col4\" >0.980199</td>\n",
       "      <td id=\"T_45dfb_row3_col5\" class=\"data row3 col5\" >0.932394</td>\n",
       "    </tr>\n",
       "    <tr>\n",
       "      <th id=\"T_45dfb_level0_row4\" class=\"row_heading level0 row4\" >5</th>\n",
       "      <td id=\"T_45dfb_row4_col0\" class=\"data row4 col0\" >0.979218</td>\n",
       "      <td id=\"T_45dfb_row4_col1\" class=\"data row4 col1\" >0.999000</td>\n",
       "      <td id=\"T_45dfb_row4_col2\" class=\"data row4 col2\" >0.969475</td>\n",
       "      <td id=\"T_45dfb_row4_col3\" class=\"data row4 col3\" >0.980199</td>\n",
       "      <td id=\"T_45dfb_row4_col4\" class=\"data row4 col4\" >1.000000</td>\n",
       "      <td id=\"T_45dfb_row4_col5\" class=\"data row4 col5\" >0.970446</td>\n",
       "    </tr>\n",
       "    <tr>\n",
       "      <th id=\"T_45dfb_level0_row5\" class=\"row_heading level0 row5\" >10</th>\n",
       "      <td id=\"T_45dfb_row5_col0\" class=\"data row5 col0\" >0.931461</td>\n",
       "      <td id=\"T_45dfb_row5_col1\" class=\"data row5 col1\" >0.969475</td>\n",
       "      <td id=\"T_45dfb_row5_col2\" class=\"data row5 col2\" >0.999000</td>\n",
       "      <td id=\"T_45dfb_row5_col3\" class=\"data row5 col3\" >0.932394</td>\n",
       "      <td id=\"T_45dfb_row5_col4\" class=\"data row5 col4\" >0.970446</td>\n",
       "      <td id=\"T_45dfb_row5_col5\" class=\"data row5 col5\" >1.000000</td>\n",
       "    </tr>\n",
       "  </tbody>\n",
       "</table>\n"
      ],
      "text/plain": [
       "<pandas.io.formats.style.Styler at 0x69007a8>"
      ]
     },
     "execution_count": 4,
     "metadata": {},
     "output_type": "execute_result"
    }
   ],
   "source": [
    "# EURO BUCKET\n",
    "correl = intrabucket_correl(3,5)\n",
    "rho = np.full((WSk_euro.size,WSk_euro.size), correl)\n",
    "np.fill_diagonal(rho,1)\n",
    "rho\n",
    "rho_df = pd.DataFrame(rho,columns = [3,5,10,3,5,10], index= [3,5,10,3,5,10])\n",
    "rho_df.iloc[[[2,0],[0,2]]] = intrabucket_correl(3,10) \n",
    "rho_df.iloc[[[2,1],[1,2]]] = intrabucket_correl(5,10)\n",
    "rho_df.iloc[3:6,0:3] =  rho_df.iloc[0:3,0:3].applymap(lambda x : x * 0.999)\n",
    "rho_df.iloc[0:3,3:6] =  rho_df.iloc[0:3,0:3].applymap(lambda x : x * 0.999)\n",
    "rho_df.iloc[3:6,3:6] =  rho_df.iloc[0:3,0:3].applymap(lambda x : x * 1)\n",
    "(rho_df.style.set_caption('Intra-bucket correlation scenario for Euro'))\n"
   ]
  },
  {
   "cell_type": "code",
   "execution_count": 5,
   "id": "a4e477a5",
   "metadata": {},
   "outputs": [
    {
     "data": {
      "text/html": [
       "<style type=\"text/css\">\n",
       "</style>\n",
       "<table id=\"T_1d040\">\n",
       "  <caption>Intra-bucket correlation scenario for USD</caption>\n",
       "  <thead>\n",
       "    <tr>\n",
       "      <th class=\"blank level0\" >&nbsp;</th>\n",
       "      <th id=\"T_1d040_level0_col0\" class=\"col_heading level0 col0\" >3</th>\n",
       "      <th id=\"T_1d040_level0_col1\" class=\"col_heading level0 col1\" >5</th>\n",
       "      <th id=\"T_1d040_level0_col2\" class=\"col_heading level0 col2\" >10</th>\n",
       "    </tr>\n",
       "  </thead>\n",
       "  <tbody>\n",
       "    <tr>\n",
       "      <th id=\"T_1d040_level0_row0\" class=\"row_heading level0 row0\" >3</th>\n",
       "      <td id=\"T_1d040_row0_col0\" class=\"data row0 col0\" >1.000000</td>\n",
       "      <td id=\"T_1d040_row0_col1\" class=\"data row0 col1\" >0.980199</td>\n",
       "      <td id=\"T_1d040_row0_col2\" class=\"data row0 col2\" >0.932394</td>\n",
       "    </tr>\n",
       "    <tr>\n",
       "      <th id=\"T_1d040_level0_row1\" class=\"row_heading level0 row1\" >5</th>\n",
       "      <td id=\"T_1d040_row1_col0\" class=\"data row1 col0\" >0.980199</td>\n",
       "      <td id=\"T_1d040_row1_col1\" class=\"data row1 col1\" >1.000000</td>\n",
       "      <td id=\"T_1d040_row1_col2\" class=\"data row1 col2\" >0.970446</td>\n",
       "    </tr>\n",
       "    <tr>\n",
       "      <th id=\"T_1d040_level0_row2\" class=\"row_heading level0 row2\" >10</th>\n",
       "      <td id=\"T_1d040_row2_col0\" class=\"data row2 col0\" >0.932394</td>\n",
       "      <td id=\"T_1d040_row2_col1\" class=\"data row2 col1\" >0.970446</td>\n",
       "      <td id=\"T_1d040_row2_col2\" class=\"data row2 col2\" >1.000000</td>\n",
       "    </tr>\n",
       "  </tbody>\n",
       "</table>\n"
      ],
      "text/plain": [
       "<pandas.io.formats.style.Styler at 0x86b6d90>"
      ]
     },
     "execution_count": 5,
     "metadata": {},
     "output_type": "execute_result"
    }
   ],
   "source": [
    "# USD BUCKET \n",
    "correl = intrabucket_correl(3,5)\n",
    "rho = np.full((WSk_usd.size,WSk_usd.size), correl)\n",
    "np.fill_diagonal(rho,1)\n",
    "rho_df_usd = pd.DataFrame(rho,columns = [3,5,10], index= [3,5,10])\n",
    "rho_df_usd.iloc[[[2,0],[0,2]]] = intrabucket_correl(3,10) \n",
    "rho_df_usd.iloc[[[2,1],[1,2]]] = intrabucket_correl(5,10)\n",
    "\n",
    "(rho_df_usd.style.set_caption('Intra-bucket correlation scenario for USD'))\n"
   ]
  },
  {
   "cell_type": "code",
   "execution_count": 6,
   "id": "2a90694d",
   "metadata": {},
   "outputs": [
    {
     "data": {
      "text/html": [
       "<style type=\"text/css\">\n",
       "</style>\n",
       "<table id=\"T_a58f6\">\n",
       "  <caption>Intra-bucket correlation for Low correlation scenario </caption>\n",
       "  <thead>\n",
       "    <tr>\n",
       "      <th class=\"blank level0\" >&nbsp;</th>\n",
       "      <th id=\"T_a58f6_level0_col0\" class=\"col_heading level0 col0\" >3</th>\n",
       "      <th id=\"T_a58f6_level0_col1\" class=\"col_heading level0 col1\" >5</th>\n",
       "      <th id=\"T_a58f6_level0_col2\" class=\"col_heading level0 col2\" >10</th>\n",
       "      <th id=\"T_a58f6_level0_col3\" class=\"col_heading level0 col3\" >3</th>\n",
       "      <th id=\"T_a58f6_level0_col4\" class=\"col_heading level0 col4\" >5</th>\n",
       "      <th id=\"T_a58f6_level0_col5\" class=\"col_heading level0 col5\" >10</th>\n",
       "    </tr>\n",
       "  </thead>\n",
       "  <tbody>\n",
       "    <tr>\n",
       "      <th id=\"T_a58f6_level0_row0\" class=\"row_heading level0 row0\" >3</th>\n",
       "      <td id=\"T_a58f6_row0_col0\" class=\"data row0 col0\" >1.000000</td>\n",
       "      <td id=\"T_a58f6_row0_col1\" class=\"data row0 col1\" >0.960397</td>\n",
       "      <td id=\"T_a58f6_row0_col2\" class=\"data row0 col2\" >0.864788</td>\n",
       "      <td id=\"T_a58f6_row0_col3\" class=\"data row0 col3\" >0.998000</td>\n",
       "      <td id=\"T_a58f6_row0_col4\" class=\"data row0 col4\" >0.958437</td>\n",
       "      <td id=\"T_a58f6_row0_col5\" class=\"data row0 col5\" >0.862923</td>\n",
       "    </tr>\n",
       "    <tr>\n",
       "      <th id=\"T_a58f6_level0_row1\" class=\"row_heading level0 row1\" >5</th>\n",
       "      <td id=\"T_a58f6_row1_col0\" class=\"data row1 col0\" >0.960397</td>\n",
       "      <td id=\"T_a58f6_row1_col1\" class=\"data row1 col1\" >1.000000</td>\n",
       "      <td id=\"T_a58f6_row1_col2\" class=\"data row1 col2\" >0.940891</td>\n",
       "      <td id=\"T_a58f6_row1_col3\" class=\"data row1 col3\" >0.958437</td>\n",
       "      <td id=\"T_a58f6_row1_col4\" class=\"data row1 col4\" >0.998000</td>\n",
       "      <td id=\"T_a58f6_row1_col5\" class=\"data row1 col5\" >0.938950</td>\n",
       "    </tr>\n",
       "    <tr>\n",
       "      <th id=\"T_a58f6_level0_row2\" class=\"row_heading level0 row2\" >10</th>\n",
       "      <td id=\"T_a58f6_row2_col0\" class=\"data row2 col0\" >0.864788</td>\n",
       "      <td id=\"T_a58f6_row2_col1\" class=\"data row2 col1\" >0.940891</td>\n",
       "      <td id=\"T_a58f6_row2_col2\" class=\"data row2 col2\" >1.000000</td>\n",
       "      <td id=\"T_a58f6_row2_col3\" class=\"data row2 col3\" >0.862923</td>\n",
       "      <td id=\"T_a58f6_row2_col4\" class=\"data row2 col4\" >0.938950</td>\n",
       "      <td id=\"T_a58f6_row2_col5\" class=\"data row2 col5\" >0.998000</td>\n",
       "    </tr>\n",
       "    <tr>\n",
       "      <th id=\"T_a58f6_level0_row3\" class=\"row_heading level0 row3\" >3</th>\n",
       "      <td id=\"T_a58f6_row3_col0\" class=\"data row3 col0\" >0.998000</td>\n",
       "      <td id=\"T_a58f6_row3_col1\" class=\"data row3 col1\" >0.958437</td>\n",
       "      <td id=\"T_a58f6_row3_col2\" class=\"data row3 col2\" >0.862923</td>\n",
       "      <td id=\"T_a58f6_row3_col3\" class=\"data row3 col3\" >1.000000</td>\n",
       "      <td id=\"T_a58f6_row3_col4\" class=\"data row3 col4\" >0.960397</td>\n",
       "      <td id=\"T_a58f6_row3_col5\" class=\"data row3 col5\" >0.864788</td>\n",
       "    </tr>\n",
       "    <tr>\n",
       "      <th id=\"T_a58f6_level0_row4\" class=\"row_heading level0 row4\" >5</th>\n",
       "      <td id=\"T_a58f6_row4_col0\" class=\"data row4 col0\" >0.958437</td>\n",
       "      <td id=\"T_a58f6_row4_col1\" class=\"data row4 col1\" >0.998000</td>\n",
       "      <td id=\"T_a58f6_row4_col2\" class=\"data row4 col2\" >0.938950</td>\n",
       "      <td id=\"T_a58f6_row4_col3\" class=\"data row4 col3\" >0.960397</td>\n",
       "      <td id=\"T_a58f6_row4_col4\" class=\"data row4 col4\" >1.000000</td>\n",
       "      <td id=\"T_a58f6_row4_col5\" class=\"data row4 col5\" >0.940891</td>\n",
       "    </tr>\n",
       "    <tr>\n",
       "      <th id=\"T_a58f6_level0_row5\" class=\"row_heading level0 row5\" >10</th>\n",
       "      <td id=\"T_a58f6_row5_col0\" class=\"data row5 col0\" >0.862923</td>\n",
       "      <td id=\"T_a58f6_row5_col1\" class=\"data row5 col1\" >0.938950</td>\n",
       "      <td id=\"T_a58f6_row5_col2\" class=\"data row5 col2\" >0.998000</td>\n",
       "      <td id=\"T_a58f6_row5_col3\" class=\"data row5 col3\" >0.864788</td>\n",
       "      <td id=\"T_a58f6_row5_col4\" class=\"data row5 col4\" >0.940891</td>\n",
       "      <td id=\"T_a58f6_row5_col5\" class=\"data row5 col5\" >1.000000</td>\n",
       "    </tr>\n",
       "  </tbody>\n",
       "</table>\n"
      ],
      "text/plain": [
       "<pandas.io.formats.style.Styler at 0x86b6e20>"
      ]
     },
     "execution_count": 6,
     "metadata": {},
     "output_type": "execute_result"
    }
   ],
   "source": [
    "## Correlation Scenarios for EURO\n",
    "Base_scenario_eur = rho_df.applymap(lambda x : x*1)\n",
    "High_scenario_eur = rho_df.applymap(lambda x : min(x*1.25,1))\n",
    "Low_scenario_eur = rho_df.applymap(lambda x : max(x*2 - 1 , 0.75 * x))\n",
    "Low_scenario_eur.style.set_caption('Intra-bucket correlation for Low correlation scenario ')"
   ]
  },
  {
   "cell_type": "code",
   "execution_count": 7,
   "id": "f5711808",
   "metadata": {},
   "outputs": [
    {
     "data": {
      "text/html": [
       "<style type=\"text/css\">\n",
       "</style>\n",
       "<table id=\"T_879ef\">\n",
       "  <caption>Intra-bucket correlation for Baseline scenario </caption>\n",
       "  <thead>\n",
       "    <tr>\n",
       "      <th class=\"blank level0\" >&nbsp;</th>\n",
       "      <th id=\"T_879ef_level0_col0\" class=\"col_heading level0 col0\" >3</th>\n",
       "      <th id=\"T_879ef_level0_col1\" class=\"col_heading level0 col1\" >5</th>\n",
       "      <th id=\"T_879ef_level0_col2\" class=\"col_heading level0 col2\" >10</th>\n",
       "    </tr>\n",
       "  </thead>\n",
       "  <tbody>\n",
       "    <tr>\n",
       "      <th id=\"T_879ef_level0_row0\" class=\"row_heading level0 row0\" >3</th>\n",
       "      <td id=\"T_879ef_row0_col0\" class=\"data row0 col0\" >1.000000</td>\n",
       "      <td id=\"T_879ef_row0_col1\" class=\"data row0 col1\" >0.980199</td>\n",
       "      <td id=\"T_879ef_row0_col2\" class=\"data row0 col2\" >0.932394</td>\n",
       "    </tr>\n",
       "    <tr>\n",
       "      <th id=\"T_879ef_level0_row1\" class=\"row_heading level0 row1\" >5</th>\n",
       "      <td id=\"T_879ef_row1_col0\" class=\"data row1 col0\" >0.980199</td>\n",
       "      <td id=\"T_879ef_row1_col1\" class=\"data row1 col1\" >1.000000</td>\n",
       "      <td id=\"T_879ef_row1_col2\" class=\"data row1 col2\" >0.970446</td>\n",
       "    </tr>\n",
       "    <tr>\n",
       "      <th id=\"T_879ef_level0_row2\" class=\"row_heading level0 row2\" >10</th>\n",
       "      <td id=\"T_879ef_row2_col0\" class=\"data row2 col0\" >0.932394</td>\n",
       "      <td id=\"T_879ef_row2_col1\" class=\"data row2 col1\" >0.970446</td>\n",
       "      <td id=\"T_879ef_row2_col2\" class=\"data row2 col2\" >1.000000</td>\n",
       "    </tr>\n",
       "  </tbody>\n",
       "</table>\n"
      ],
      "text/plain": [
       "<pandas.io.formats.style.Styler at 0x86b6bf8>"
      ]
     },
     "execution_count": 7,
     "metadata": {},
     "output_type": "execute_result"
    }
   ],
   "source": [
    "## Correlation Scenarios for USD\n",
    "Base_scenario_usd = rho_df_usd.applymap(lambda x : x*1)\n",
    "High_scenario_usd = rho_df_usd.applymap(lambda x : min(x*1.25,1))\n",
    "Low_scenario_usd = rho_df_usd.applymap(lambda x : max(x*2 - 1 , 0.75 * x))\n",
    "Base_scenario_usd.style.set_caption('Intra-bucket correlation for Baseline scenario ')"
   ]
  },
  {
   "cell_type": "code",
   "execution_count": 8,
   "id": "86990219",
   "metadata": {},
   "outputs": [
    {
     "data": {
      "text/plain": [
       "array([[[1.75894403]],\n",
       "\n",
       "       [[1.91634345]],\n",
       "\n",
       "       [[1.586     ]]])"
      ]
     },
     "execution_count": 8,
     "metadata": {},
     "output_type": "execute_result"
    }
   ],
   "source": [
    "\"\"\"\n",
    "We have the weighted net sensitivity matrix(WSk) and intrabucket correlation matrix above \n",
    "now we move to bucket level capital charge for Euro bucket for three correlation(rho) scenarios and store it in a array\n",
    "\n",
    "\"\"\"\n",
    "Kb_base = np.sqrt(WSk_euro.T@Base_scenario_eur@WSk_euro)\n",
    "Kb_low = np.sqrt(WSk_euro.T@Low_scenario_eur@WSk_euro)\n",
    "Kb_high = np.sqrt(WSk_euro.T@High_scenario_eur@WSk_euro)\n",
    "Kb_matrix_eur = np.array([Kb_base, Kb_low, Kb_high])\n",
    "Kb_matrix_eur\n"
   ]
  },
  {
   "cell_type": "code",
   "execution_count": 9,
   "id": "00fbe5b7",
   "metadata": {},
   "outputs": [
    {
     "name": "stdout",
     "output_type": "stream",
     "text": [
      "[[[3.67570246]]\n",
      "\n",
      " [[3.65731339]]\n",
      "\n",
      " [[3.694     ]]]\n"
     ]
    }
   ],
   "source": [
    "\"\"\"\n",
    "We have the weighted net sensitivity matrix(WSk) and intrabucket correlation matrix above \n",
    "now we move to bucket level capital charge for Euro bucket for three correlation(rho) scenarios and store it in a array\n",
    "\n",
    "\"\"\"\n",
    "Kb_base = np.sqrt(WSk_usd.T@Base_scenario_usd@WSk_usd)\n",
    "Kb_low = np.sqrt(WSk_usd.T@Low_scenario_usd@WSk_usd)\n",
    "Kb_high = np.sqrt(WSk_usd.T@High_scenario_usd@WSk_usd)\n",
    "Kb_matrix_usd = np.array([Kb_base, Kb_low, Kb_high])\n",
    "print(Kb_matrix_usd)"
   ]
  },
  {
   "cell_type": "code",
   "execution_count": 10,
   "id": "5859cc5c",
   "metadata": {},
   "outputs": [
    {
     "name": "stdout",
     "output_type": "stream",
     "text": [
      "Gamma: base, Capital Charge: [[22.46335672]]\n",
      "Gamma: low, Capital Charge: [[21.44232644]]\n",
      "Gamma: high, Capital Charge: [[23.484387]]\n"
     ]
    }
   ],
   "source": [
    "\"\"\"\n",
    "As we have the bucket level capital charge \n",
    "now we move to interbucket capital charge\n",
    "in our case we have two buckets(Euro,USD)\n",
    "final capital charge is the maximum of three gamma scenarios\n",
    "\n",
    "\"\"\"\n",
    "\n",
    "def calculate_capital_charge(Kb_matrix_eur, Kb_matrix_usd, Sb_euro, Sb_usd, gamma):\n",
    "    gamma_coefficients = {\"base\": 0.5, \"low\": 0.375, \"high\": 0.625}  # interbucket correlation according to FRTB \n",
    "    \n",
    "    gamma_value = gamma_coefficients[gamma]\n",
    "    capital = Kb_matrix_eur**2 + Kb_matrix_usd**2 + 2 * Sb_euro * Sb_usd * gamma_value\n",
    "    return capital\n",
    "\n",
    "\n",
    "gamma_values = [\"base\", \"low\", \"high\"] \n",
    "\n",
    "\n",
    "for gamma, Kb_eur, Kb_usd in zip(gamma_values, Kb_matrix_eur, Kb_matrix_usd):\n",
    "    capital = calculate_capital_charge(Kb_eur, Kb_usd, Sb_euro, Sb_usd, gamma)\n",
    "    \n",
    "    print(f\"Gamma: {gamma}, Capital Charge: {capital}\")"
   ]
  }
 ],
 "metadata": {
  "kernelspec": {
   "display_name": "Python 3 (ipykernel)",
   "language": "python",
   "name": "python3"
  },
  "language_info": {
   "codemirror_mode": {
    "name": "ipython",
    "version": 3
   },
   "file_extension": ".py",
   "mimetype": "text/x-python",
   "name": "python",
   "nbconvert_exporter": "python",
   "pygments_lexer": "ipython3",
   "version": "3.9.12"
  }
 },
 "nbformat": 4,
 "nbformat_minor": 5
}
